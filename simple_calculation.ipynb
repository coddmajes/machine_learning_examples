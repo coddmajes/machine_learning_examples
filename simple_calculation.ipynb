{
  "nbformat": 4,
  "nbformat_minor": 0,
  "metadata": {
    "colab": {
      "name": "Untitled0.ipynb",
      "provenance": [],
      "collapsed_sections": [],
      "include_colab_link": true
    },
    "kernelspec": {
      "name": "python3",
      "display_name": "Python 3"
    }
  },
  "cells": [
    {
      "cell_type": "markdown",
      "metadata": {
        "id": "view-in-github",
        "colab_type": "text"
      },
      "source": [
        "<a href=\"https://colab.research.google.com/github/coddmajes/deep-learning---handwritting-recognition/blob/master/Untitled0.ipynb\" target=\"_parent\"><img src=\"https://colab.research.google.com/assets/colab-badge.svg\" alt=\"Open In Colab\"/></a>"
      ]
    },
    {
      "cell_type": "code",
      "metadata": {
        "id": "qNNY3qYdeP6Z",
        "colab_type": "code",
        "colab": {
          "base_uri": "https://localhost:8080/",
          "height": 306
        },
        "outputId": "d4e165ff-12a9-44b1-bc1d-c12233371cee"
      },
      "source": [
        "import tensorflow as tf\n",
        "tf.logging.set_verbosity(tf.logging.ERROR)\n",
        "\n",
        "import numpy as np\n",
        "\n",
        "celsius_q = np.array([-40, -10, 0, 8, 15, 22, 38], dtype = float)\n",
        "fahrenheit_a = np.array ([-40, 14, 32, 46, 59, 72, 100], dtype = float)\n",
        "\n",
        "for i,c in enumerate(celsius_q):\n",
        "  print(\"{} degrees Celsius = {} degrees Fahrenhet\".format(c, fahrenheit_a[i]))\n",
        "\n",
        "qq = tf.keras.layers.Dense(units=1, input_shape = [1])\n",
        "ww = tf.keras.layers.Dense(units = 4)\n",
        "ee = tf.keras.layers.Dense(units =1)\n",
        "model = tf.keras.Sequential([ qq,ww,ee])\n",
        "model.compile(loss = 'mean_squared_error', optimizer = tf.keras.optimizers.Adam(0.1))\n",
        "history = model.fit(celsius_q,fahrenheit_a, epochs = 500, verbose = False)\n",
        "print(\"finsihed training the model\")\n",
        "\n",
        "'''\n",
        "import matplotlib.pyplot as plt\n",
        "plt.xlabel('epochs number')\n",
        "plt.ylabel('loss magnitude')\n",
        "plt.plot(history.history['loss'])\n",
        "'''\n",
        "\n",
        "print(model.predict([100.0]))\n",
        "print(\"Model predicts that 100 degrees Celsius is: {} degrees Fahrenheit\".format(model.predict([100.0])))\n",
        "\n",
        "print(\"These are the layer variables: {}\".format(qq.get_weights()))\n",
        "print(\"These are the layer variables: {}\".format(ww.get_weights()))\n",
        "print(\"These are the layer variables: {}\".format(ee.get_weights()))\n"
      ],
      "execution_count": 28,
      "outputs": [
        {
          "output_type": "stream",
          "text": [
            "-40.0 degrees Celsius = -40.0 degrees Fahrenhet\n",
            "-10.0 degrees Celsius = 14.0 degrees Fahrenhet\n",
            "0.0 degrees Celsius = 32.0 degrees Fahrenhet\n",
            "8.0 degrees Celsius = 46.0 degrees Fahrenhet\n",
            "15.0 degrees Celsius = 59.0 degrees Fahrenhet\n",
            "22.0 degrees Celsius = 72.0 degrees Fahrenhet\n",
            "38.0 degrees Celsius = 100.0 degrees Fahrenhet\n",
            "finsihed training the model\n",
            "[[211.74742]]\n",
            "Model predicts that 100 degrees Celsius is: [[211.74742]] degrees Fahrenheit\n",
            "These are the layer variables: [array([[-0.5557445]], dtype=float32), array([-3.7631547], dtype=float32)]\n",
            "These are the layer variables: [array([[ 0.7904419 , -0.8912081 ,  0.43972614,  0.5703242 ]],\n",
            "      dtype=float32), array([-3.8372438,  3.660561 , -2.8887005, -3.5950012], dtype=float32)]\n",
            "These are the layer variables: [array([[-0.89887667],\n",
            "       [ 1.5712491 ],\n",
            "       [-0.80402905],\n",
            "       [-1.3515744 ]], dtype=float32), array([3.3955643], dtype=float32)]\n"
          ],
          "name": "stdout"
        }
      ]
    }
  ]
}
